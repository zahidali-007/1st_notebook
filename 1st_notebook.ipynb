{
 "cells": [
  {
   "cell_type": "markdown",
   "metadata": {},
   "source": [
    "# My Jupyter Notebook"
   ]
  },
  {
   "cell_type": "markdown",
   "metadata": {},
   "source": [
    "### Zahid Ali"
   ]
  },
  {
   "cell_type": "markdown",
   "metadata": {},
   "source": [
    "Influencer"
   ]
  },
  {
   "cell_type": "markdown",
   "metadata": {},
   "source": [
    "*Data Science leads us to the future. And I want my place in the future. That is why I am interested in DS.*"
   ]
  },
  {
   "cell_type": "code",
   "execution_count": 1,
   "metadata": {},
   "outputs": [
    {
     "name": "stdout",
     "output_type": "stream",
     "text": [
      "For Data Science course you will pay in total 152 $.\n"
     ]
    }
   ],
   "source": [
    "import math                #importing math for math.ceil() function (rounding up).\n",
    "MonthlyFee = 38            # monthly fee in USD\n",
    "CourseLength = 11          # course length according to Coursera in month\n",
    "MyPace = 3                 # the coefficient which show how much times faster you can pass the course\n",
    "TotalFee = math.ceil(CourseLength/MyPace)*MonthlyFee # counting the fee\n",
    "print('For Data Science course you will pay in total',TotalFee,'$.') # output the values."
   ]
  },
  {
   "cell_type": "code",
   "execution_count": null,
   "metadata": {},
   "outputs": [],
   "source": []
  }
 ],
 "metadata": {
  "kernelspec": {
   "display_name": "Python 3.9.11 64-bit",
   "language": "python",
   "name": "python3"
  },
  "language_info": {
   "codemirror_mode": {
    "name": "ipython",
    "version": 3
   },
   "file_extension": ".py",
   "mimetype": "text/x-python",
   "name": "python",
   "nbconvert_exporter": "python",
   "pygments_lexer": "ipython3",
   "version": "3.9.11"
  },
  "orig_nbformat": 4,
  "vscode": {
   "interpreter": {
    "hash": "833180a00c88d9d0585fcd96d00ca4983a07c7d3573c8d8e59a018f53a1782ed"
   }
  }
 },
 "nbformat": 4,
 "nbformat_minor": 2
}
